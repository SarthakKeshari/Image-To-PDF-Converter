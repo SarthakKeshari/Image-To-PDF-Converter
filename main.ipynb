{
 "cells": [
  {
   "cell_type": "code",
   "execution_count": 1,
   "id": "0a33a875",
   "metadata": {},
   "outputs": [],
   "source": [
    "import cv2\n",
    "import img2pdf as converter\n",
    "import os\n",
    "import glob"
   ]
  },
  {
   "cell_type": "code",
   "execution_count": 3,
   "id": "e0b9bf49",
   "metadata": {},
   "outputs": [
    {
     "name": "stdout",
     "output_type": "stream",
     "text": [
      "Enter path to images folder: C:\\Users\\Dell\\Image to Pdf\\Internet Images (png)\n",
      "Enter path to output folder: Output\n",
      "Enter name of pdfInternet Images (png)\n",
      "PDF successfully created\n"
     ]
    }
   ],
   "source": [
    "try:\n",
    "    path_to_input_images_folder = str(\"/\".join((r'{}'.format(input(\"Enter path to images folder: \"))).split('\\\\')))                                                                                 \n",
    "    path_to_output_pdf_folder = str(\"/\".join((r'{}'.format(input(\"Enter path to output folder: \"))).split('\\\\')))    \n",
    "    name_for_the_pdf = str(input(\"Enter name of pdf\"))\n",
    "    \n",
    "    supported_img_formats = ['jpg','JPG','jpeg','JPEG','png','PNG','psd','PSD']\n",
    "\n",
    "    all_images = os.listdir(path_to_input_images_folder)\n",
    "    inputFiles = []\n",
    "\n",
    "    for img in all_images:\n",
    "        img_extention = img.split(\".\")[-1]\n",
    "        if(img_extention in supported_img_formats):\n",
    "            original_img = cv2.imread(path_to_input_images_folder+\"/\"+img)\n",
    "            cv2.imwrite(\"temporary_storage/\"+img, original_img, [int(cv2.IMWRITE_JPEG_QUALITY), 100])\n",
    "            inputFiles.append(\"temporary_storage/\"+img)\n",
    "\n",
    "    outputFile = open(path_to_output_pdf_folder+\"/\"+name_for_the_pdf+\".pdf\", 'wb')\n",
    "    outputFile.write(converter.convert(inputFiles))\n",
    "    outputFile.close()\n",
    "\n",
    "    for file in glob.glob(\"temporary_storage/*\"):\n",
    "        os.remove(file)\n",
    "\n",
    "    print(\"PDF successfully created\")\n",
    "\n",
    "except Exception as e:\n",
    "        #if there are any errors, print 'fail' for these errors\n",
    "        print('ERROR: ',e)"
   ]
  },
  {
   "cell_type": "code",
   "execution_count": null,
   "id": "2e2596f3",
   "metadata": {},
   "outputs": [],
   "source": []
  }
 ],
 "metadata": {
  "kernelspec": {
   "display_name": "Python 3",
   "language": "python",
   "name": "python3"
  },
  "language_info": {
   "codemirror_mode": {
    "name": "ipython",
    "version": 3
   },
   "file_extension": ".py",
   "mimetype": "text/x-python",
   "name": "python",
   "nbconvert_exporter": "python",
   "pygments_lexer": "ipython3",
   "version": "3.6.13"
  }
 },
 "nbformat": 4,
 "nbformat_minor": 5
}
